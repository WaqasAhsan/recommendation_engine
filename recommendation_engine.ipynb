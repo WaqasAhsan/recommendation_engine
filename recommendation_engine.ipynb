{
 "cells": [
  {
   "cell_type": "code",
   "execution_count": 1,
   "id": "5fb9828f-d761-4991-96bb-cfcbd70f5620",
   "metadata": {
    "tags": []
   },
   "outputs": [],
   "source": [
    "import pandas as pd\n",
    "import openai\n"
   ]
  },
  {
   "cell_type": "code",
   "execution_count": 2,
   "id": "817efbfa-b8c4-42ad-ab9d-4aba2ee1ab62",
   "metadata": {
    "tags": []
   },
   "outputs": [],
   "source": [
    "# please add your api key below\n",
    "openai.api_key = \"<Plaese add your api key here>\""
   ]
  },
  {
   "cell_type": "code",
   "execution_count": 3,
   "id": "247a1690-3b56-477b-b87c-61692a59b160",
   "metadata": {
    "tags": []
   },
   "outputs": [],
   "source": [
    "def get_completion(prompt, model=\"gpt-3.5-turbo\"):\n",
    "    messages = [{\"role\": \"user\", \"content\": prompt}]\n",
    "    response = openai.ChatCompletion.create(\n",
    "        model=model,\n",
    "        messages=messages,\n",
    "        temperature=0.9,\n",
    "    )\n",
    "    return response.choices[0].message[\"content\"]"
   ]
  },
  {
   "cell_type": "code",
   "execution_count": null,
   "id": "a97845e6-d5c7-4030-853e-8d695c3542a8",
   "metadata": {
    "tags": []
   },
   "outputs": [],
   "source": [
    "filePath = '/Volumes/Development/PIAIC/AI/Datasets/data1.csv'\n",
    "df = pd.read_csv(filePath)\n",
    "\n",
    "selected_columns = df[['user_id', 'product_id', 'selling_price','average_rating','brand','category','description','discount','product_details','title']]\n",
    "\n",
    "def getDataFromFile(isReading):\n",
    "    if(isReading):\n",
    "        # Limit the DataFrame to the first 3 rows.\n",
    "        # Reading first 3 rows of a dataset comprising of buying history of a single user with user_id 1001\n",
    "        first_3_rows = selected_columns.head(3)\n",
    "    else:\n",
    "        # Limit the DataFrame to the first 3 rows.\n",
    "        # Reading last 3 rows of a dataset compring of 3 products  \n",
    "        first_3_rows = selected_columns.tail(1)\n",
    "        \n",
    "    # Get the column names.\n",
    "    column_names = first_3_rows.columns\n",
    "    testOutput = \"\"\n",
    "    # Iterate through the rows and display data row-wise.\n",
    "    for index, row in first_3_rows.iterrows():\n",
    "        testOutput = f\"{testOutput}{index+1}\\n\"\n",
    "        for col_name in column_names:\n",
    "            testOutput = (f\"{testOutput}{col_name}: {row[col_name]}\\n\")\n",
    "        print()  # Add an empty line for separation between rows.\n",
    "    return testOutput\n",
    "\n",
    "trainingData = getDataFromFile(True)\n",
    "# print(trainingData)\n",
    "newProductData = getDataFromFile(False)\n",
    "# print(newProductData)\n"
   ]
  },
  {
   "cell_type": "code",
   "execution_count": 5,
   "id": "8698d6c7-0446-4eed-a3cd-879f0c62f570",
   "metadata": {
    "tags": []
   },
   "outputs": [],
   "source": [
    "prompt = f\"\"\"\n",
    "Perform the following actions:\n",
    "1:\n",
    "Based on the provided Purchase Data of the user \\\n",
    "please summarize the user's buying pattern \\\n",
    "and return it in a JSON format with a key 'buying_pattern_summary'\n",
    "2:\n",
    "Below I am mentioning 1 New Product Data. can you re-write \\\n",
    "description of this product which will suit above mentioned \\\n",
    "user buying behaviour? \n",
    "and return it in a JSON format with a keys old_description, new_updated_description\n",
    "\n",
    "Purchase Data: ```{trainingData}```\n",
    "New Product Data: ```{newProductData}``` \n",
    "\"\"\"\n",
    "# print(prompt)"
   ]
  },
  {
   "cell_type": "code",
   "execution_count": 6,
   "id": "0c6cd2e6-6870-446a-a0fe-73f02be7e827",
   "metadata": {
    "tags": []
   },
   "outputs": [
    {
     "name": "stdout",
     "output_type": "stream",
     "text": [
      "1:\n",
      "The user's buying pattern can be summarized as follows:\n",
      "- The user has purchased three products in the Clothing and Accessories category.\n",
      "- The user tends to buy products with a discount, as all three products were purchased with a discount.\n",
      "- The user prefers products with average ratings above 4.\n",
      "- The user has purchased products from different brands.\n",
      "\n",
      "{\n",
      "  \"buying_pattern_summary\": \"The user tends to buy discounted products with average ratings above 4 from different brands in the Clothing and Accessories category.\"\n",
      "}\n",
      "\n",
      "2:\n",
      "{\n",
      "  \"old_description\": \"This Socks combines the best of organically grown cotton with the comfort of modern day design incorporated with cutting-edge technology to produce socks that offer superior most comfort for every day usage at economical prices. The socks are designed and manufactured keeping in view the highest quality standards suitable for the European markets. Each pair of socks is knitted only from the best of class materials to ensure durability and withstand everyday wear and tear while offering maximum comfort. The socks are packaged in packs of 6 offering the best value for money to our loyal customers.\",\n",
      "  \"new_updated_description\": \"These socks are perfect for the user who values both comfort and affordability. Made from high-quality cotton blend, these calf-length socks are designed using modern day technology to provide superior comfort for everyday use. Each pair is crafted with durability in mind, ensuring they can withstand everyday wear and tear. With a pack of 3, these socks offer great value for money. Upgrade your sock collection with these comfortable and budget-friendly socks.\"\n",
      "}\n"
     ]
    }
   ],
   "source": [
    "response = get_completion(prompt)\n",
    "print(response)"
   ]
  }
 ],
 "metadata": {
  "kernelspec": {
   "display_name": "Python 3 (ipykernel)",
   "language": "python",
   "name": "python3"
  },
  "language_info": {
   "codemirror_mode": {
    "name": "ipython",
    "version": 3
   },
   "file_extension": ".py",
   "mimetype": "text/x-python",
   "name": "python",
   "nbconvert_exporter": "python",
   "pygments_lexer": "ipython3",
   "version": "3.11.5"
  }
 },
 "nbformat": 4,
 "nbformat_minor": 5
}
